{
 "cells": [
  {
   "cell_type": "markdown",
   "id": "121a940a",
   "metadata": {},
   "source": [
    "## 1- Imposto a pagar no Lucro Presumido\n",
    "\n",
    "### * 5% sobre faturamento de ISS (mensal)\n",
    "### * 0,65% de PIS sobre faturamento, (mensal)\n",
    "### * 3% de COFINS sobre faturamento, (mensal)\n",
    "### * 4,8% de IR (Trimestral)\n",
    "### * 10% de IR Adicional sobre o que ultrapassar 20mil do faturamento (trimestral)\n",
    "### * CSLL: 2,88% sobre faturamento (trimestral)"
   ]
  },
  {
   "cell_type": "code",
   "execution_count": 19,
   "id": "5d43f522",
   "metadata": {},
   "outputs": [
    {
     "name": "stdout",
     "output_type": "stream",
     "text": [
      "{'jan': ('R$ 95,141.98', 'R$ 8,229.78', 'R$ 14,821.10'), 'fev': ('R$ 95,425.16', 'R$ 8,254.28', 'R$ 14,871.17'), 'mar': ('R$ 89,716.31', 'R$ 7,760.46', 'R$ 13,861.84'), 'abr': ('R$ 78,459.99', 'R$ 6,786.79', 'R$ 11,871.73'), 'mai': ('R$ 71,087.28', 'R$ 6,149.05', 'R$ 10,568.23'), 'jun': ('R$ 83,911.06', 'R$ 7,258.31', 'R$ 12,835.48'), 'jul': ('R$ 56,467.26', 'R$ 4,884.42', 'R$ 7,983.41'), 'ago': ('R$ 88,513.58', 'R$ 7,656.42', 'R$ 13,649.20'), 'set': ('R$ 66,552.49', 'R$ 5,756.79', 'R$ 9,766.48'), 'out': ('R$ 80,164.07', 'R$ 6,934.19', 'R$ 12,173.01'), 'nov': ('R$ 66,964.33', 'R$ 5,792.41', 'R$ 9,839.29'), 'dez': ('R$ 71,525.25', 'R$ 6,186.93', 'R$ 10,645.66')}\n"
     ]
    }
   ],
   "source": [
    "# você precisa inserir no sistema um dicionário no formato:\n",
    "\n",
    "# resultado = {\n",
    "#     'mes': (faturamento, imposto_mensal, imposto_trimestral),\n",
    "# }\n",
    "\n",
    "\n",
    "faturamento = {\n",
    "    'jan': 'R$ 95.141,98',\n",
    "    'fev': 'R$ 95.425,16',\n",
    "    'mar': 'R$ 89.716,31',\n",
    "    'abr': 'R$ 78.459,99',\n",
    "    'mai': 'R$ 71.087,28',\n",
    "    'jun': 'R$ 83.911,06',\n",
    "    'jul': 'R$ 56.467,26',\n",
    "    'ago': 'R$ 88.513,58',\n",
    "    'set': 'R$ 66.552,49',\n",
    "    'out': 'R$ 80.164,07',\n",
    "    'nov': 'R$ 66.964,33',\n",
    "    'dez': 'R$ 71.525,25',\n",
    "}\n",
    "\n",
    "# Percorrer cada item(mês) do dicionário para cada mês eu vou:\n",
    "      # 1-Transformar o valor em numero;\n",
    "      # 2-Calcular Imposto Mensal;\n",
    "      # 3-Calcular Imposto Trimestral;\n",
    "      # 4-Construir Resultado;\n",
    "\n",
    "#1-Transformando o valor em numero:\n",
    "def transformar_numero(valor):\n",
    "    #Tirar R$ e o texto vazio\n",
    "    valor = faturamento[mes].replace(\"R$ \", \"\")\n",
    "    #Tirar o \".\" da casa de milhar\n",
    "    valor = valor.replace(\".\", \"\")\n",
    "    #Substituir a \",\" por \".\"\n",
    "    valor = valor.replace(\",\", \".\")\n",
    "    #Aplicar função para transformar em numero\n",
    "    valor = float(valor)\n",
    "    return valor\n",
    "\n",
    "#2-Calculando Imposto Mensal:\n",
    "def calcular_imposto_mensal(valor):\n",
    "    iss = 0.05 * valor\n",
    "    pis = 0.0065 * valor\n",
    "    cofins = 0.03 * valor\n",
    "    imposto_mensal = iss + pis + cofins\n",
    "    return imposto_mensal\n",
    "\n",
    "#3-Calculando Imposto Trimestral:\n",
    "def calcular_imposto_trimestral(valor):\n",
    "    ir = 0.048 * valor\n",
    "    csll = 0.0288 * valor\n",
    "    if valor > 20000:\n",
    "        ir_adicional = (valor - 20000) * 0.1\n",
    "    else:\n",
    "        ir_adicional = 0\n",
    "    imposto_trimestral = ir_adicional + ir + csll\n",
    "    return imposto_trimestral\n",
    "\n",
    "\n",
    "#a-Lógica para percorrer o dicionario, váriavel \"mes\" será a chave do dicionario,\n",
    "# variavel \"faturamento[mes]\" será o valor da chave\n",
    "\n",
    "for mes in faturamento:\n",
    "    valor = transformar_numero(faturamento[mes])\n",
    "    imposto_mensal = calcular_imposto_mensal(valor)\n",
    "    imposto_trimestral = calcular_imposto_trimestral(valor)\n",
    "    \n",
    "    #4-Construindo Resultado\n",
    "    faturamento[mes] = (f'R${valor: ,.2f}', f'R${imposto_mensal: ,.2f}', f'R${imposto_trimestral: ,.2f}')\n",
    "\n",
    "print(faturamento)\n",
    "    \n",
    "\n",
    "\n",
    "    \n",
    "#    print(mes)\n",
    "#    print(faturamento[mes])\n",
    "    \n",
    "    \n",
    "    \n",
    "    \n"
   ]
  },
  {
   "cell_type": "code",
   "execution_count": null,
   "id": "2d36cc18",
   "metadata": {},
   "outputs": [],
   "source": []
  }
 ],
 "metadata": {
  "kernelspec": {
   "display_name": "Python 3 (ipykernel)",
   "language": "python",
   "name": "python3"
  },
  "language_info": {
   "codemirror_mode": {
    "name": "ipython",
    "version": 3
   },
   "file_extension": ".py",
   "mimetype": "text/x-python",
   "name": "python",
   "nbconvert_exporter": "python",
   "pygments_lexer": "ipython3",
   "version": "3.9.12"
  }
 },
 "nbformat": 4,
 "nbformat_minor": 5
}
